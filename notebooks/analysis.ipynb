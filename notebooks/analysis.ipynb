{
 "cells": [
  {
   "cell_type": "code",
   "execution_count": null,
   "metadata": {},
   "outputs": [],
   "source": [
    "{\n",
    " \"cells\": [\n",
    "  {\n",
    "   \"cell_type\": \"code\",\n",
    "   \"execution_count\": null,\n",
    "   \"metadata\": {},\n",
    "   \"outputs\": [],\n",
    "   \"source\": [\n",
    "    \"import pandas as pd\\n\",\n",
    "    \"import matplotlib.pyplot as plt\\n\",\n",
    "    \"\\n\",\n",
    "    \"# Load the data\\n\",\n",
    "    \"df = pd.read_csv('../data/election_results.csv')\\n\",\n",
    "    \"\\n\",\n",
    "    \"# Clean and prepare data\\n\",\n",
    "    \"df.dropna(inplace=True)\\n\",\n",
    "    \"df['Votes'] = df['Votes'].str.replace(',', '').astype(int)\\n\",\n",
    "    \"df['Percentage'] = df['Percentage'].str.replace('%', '').astype(float)\\n\",\n",
    "    \"\\n\",\n",
    "    \"# Perform EDA\\n\",\n",
    "    \"# [Include EDA code here as needed]\\n\",\n",
    "    \"\\n\",\n",
    "    \"# Example: Total seats won by each party\\n\",\n",
    "    \"total_seats_won = df.groupby('Party')['Seats'].sum().reset_index()\\n\",\n",
    "    \"total_seats_won.plot(kind='bar', x='Party', y='Seats', legend=False)\\n\",\n",
    "    \"plt.title('Total Seats Won by Each Party')\\n\",\n",
    "    \"plt.ylabel('Seats Won')\\n\",\n",
    "    \"plt.xlabel('Party')\\n\",\n",
    "    \"plt.show()\\n\",\n",
    "    \"\\n\",\n",
    "    \"# Example: Vote share percentage\\n\",\n",
    "    \"vote_shares = df.groupby('Party')['Votes'].sum().reset_index()\\n\",\n",
    "    \"vote_shares['Percentage'] = (vote_shares['Votes'] / vote_shares['Votes'].sum()) * 100\\n\",\n",
    "    \"vote_shares.plot(kind='pie', y='Percentage', labels=vote_shares['Party'], autopct='%1.1f%%')\\n\",\n",
    "    \"plt.title('Vote Share Percentage by Party')\\n\",\n",
    "    \"plt.ylabel('')\\n\",\n",
    "    \"plt.show()\\n\"\n",
    "   ]\n",
    "  }\n",
    " ],\n",
    " \"metadata\": {\n",
    "  \"language_info\": {\n",
    "   \"name\": \"python\"\n",
    "  }\n",
    " },\n",
    " \"nbformat\": 4,\n",
    " \"nbformat_minor\": 2\n",
    "}"
   ]
  }
 ],
 "metadata": {
  "language_info": {
   "name": "python"
  }
 },
 "nbformat": 4,
 "nbformat_minor": 2
}
